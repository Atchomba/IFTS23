{
 "cells": [
  {
   "attachments": {},
   "cell_type": "markdown",
   "metadata": {},
   "source": [
    "## Pandas Merge\n",
    "\n",
    "<img src='https://frenzy86.s3.eu-west-2.amazonaws.com/python/pandasmerge/merge0.png' width=800>"
   ]
  },
  {
   "cell_type": "code",
   "execution_count": 1,
   "metadata": {},
   "outputs": [],
   "source": [
    "import numpy as np\n",
    "import pandas as pd\n",
    "\n",
    "names = pd.DataFrame({\n",
    "                    \"id\": [1, 2, 3, 4, 10],\n",
    "                    \"name\": [\"Emily\", \"Jane\", \"Joe\", \"Matt\", \"Lucas\"],\n",
    "                    \"age\": np.random.randint(20, 30, size=5)\n",
    "                     })\n",
    "\n",
    "scores = pd.DataFrame({\n",
    "                    \"id\": np.arange(1, 8),\n",
    "                    \"score\": np.random.randint(80, 100, size=7),\n",
    "                    \"group\": list(\"ABCAACA\")\n",
    "                    })"
   ]
  },
  {
   "cell_type": "code",
   "execution_count": 2,
   "metadata": {},
   "outputs": [
    {
     "data": {
      "text/html": [
       "<div>\n",
       "<style scoped>\n",
       "    .dataframe tbody tr th:only-of-type {\n",
       "        vertical-align: middle;\n",
       "    }\n",
       "\n",
       "    .dataframe tbody tr th {\n",
       "        vertical-align: top;\n",
       "    }\n",
       "\n",
       "    .dataframe thead th {\n",
       "        text-align: right;\n",
       "    }\n",
       "</style>\n",
       "<table border=\"1\" class=\"dataframe\">\n",
       "  <thead>\n",
       "    <tr style=\"text-align: right;\">\n",
       "      <th></th>\n",
       "      <th>id</th>\n",
       "      <th>name</th>\n",
       "      <th>age</th>\n",
       "    </tr>\n",
       "  </thead>\n",
       "  <tbody>\n",
       "    <tr>\n",
       "      <th>0</th>\n",
       "      <td>1</td>\n",
       "      <td>Emily</td>\n",
       "      <td>28</td>\n",
       "    </tr>\n",
       "    <tr>\n",
       "      <th>1</th>\n",
       "      <td>2</td>\n",
       "      <td>Jane</td>\n",
       "      <td>26</td>\n",
       "    </tr>\n",
       "    <tr>\n",
       "      <th>2</th>\n",
       "      <td>3</td>\n",
       "      <td>Joe</td>\n",
       "      <td>22</td>\n",
       "    </tr>\n",
       "    <tr>\n",
       "      <th>3</th>\n",
       "      <td>4</td>\n",
       "      <td>Matt</td>\n",
       "      <td>29</td>\n",
       "    </tr>\n",
       "    <tr>\n",
       "      <th>4</th>\n",
       "      <td>10</td>\n",
       "      <td>Lucas</td>\n",
       "      <td>22</td>\n",
       "    </tr>\n",
       "  </tbody>\n",
       "</table>\n",
       "</div>"
      ],
      "text/plain": [
       "   id   name  age\n",
       "0   1  Emily   28\n",
       "1   2   Jane   26\n",
       "2   3    Joe   22\n",
       "3   4   Matt   29\n",
       "4  10  Lucas   22"
      ]
     },
     "execution_count": 2,
     "metadata": {},
     "output_type": "execute_result"
    }
   ],
   "source": [
    "names"
   ]
  },
  {
   "cell_type": "code",
   "execution_count": 3,
   "metadata": {},
   "outputs": [
    {
     "data": {
      "text/html": [
       "<div>\n",
       "<style scoped>\n",
       "    .dataframe tbody tr th:only-of-type {\n",
       "        vertical-align: middle;\n",
       "    }\n",
       "\n",
       "    .dataframe tbody tr th {\n",
       "        vertical-align: top;\n",
       "    }\n",
       "\n",
       "    .dataframe thead th {\n",
       "        text-align: right;\n",
       "    }\n",
       "</style>\n",
       "<table border=\"1\" class=\"dataframe\">\n",
       "  <thead>\n",
       "    <tr style=\"text-align: right;\">\n",
       "      <th></th>\n",
       "      <th>id</th>\n",
       "      <th>score</th>\n",
       "      <th>group</th>\n",
       "    </tr>\n",
       "  </thead>\n",
       "  <tbody>\n",
       "    <tr>\n",
       "      <th>0</th>\n",
       "      <td>1</td>\n",
       "      <td>90</td>\n",
       "      <td>A</td>\n",
       "    </tr>\n",
       "    <tr>\n",
       "      <th>1</th>\n",
       "      <td>2</td>\n",
       "      <td>87</td>\n",
       "      <td>B</td>\n",
       "    </tr>\n",
       "    <tr>\n",
       "      <th>2</th>\n",
       "      <td>3</td>\n",
       "      <td>95</td>\n",
       "      <td>C</td>\n",
       "    </tr>\n",
       "    <tr>\n",
       "      <th>3</th>\n",
       "      <td>4</td>\n",
       "      <td>85</td>\n",
       "      <td>A</td>\n",
       "    </tr>\n",
       "    <tr>\n",
       "      <th>4</th>\n",
       "      <td>5</td>\n",
       "      <td>85</td>\n",
       "      <td>A</td>\n",
       "    </tr>\n",
       "    <tr>\n",
       "      <th>5</th>\n",
       "      <td>6</td>\n",
       "      <td>97</td>\n",
       "      <td>C</td>\n",
       "    </tr>\n",
       "    <tr>\n",
       "      <th>6</th>\n",
       "      <td>7</td>\n",
       "      <td>89</td>\n",
       "      <td>A</td>\n",
       "    </tr>\n",
       "  </tbody>\n",
       "</table>\n",
       "</div>"
      ],
      "text/plain": [
       "   id  score group\n",
       "0   1     90     A\n",
       "1   2     87     B\n",
       "2   3     95     C\n",
       "3   4     85     A\n",
       "4   5     85     A\n",
       "5   6     97     C\n",
       "6   7     89     A"
      ]
     },
     "execution_count": 3,
     "metadata": {},
     "output_type": "execute_result"
    }
   ],
   "source": [
    "scores"
   ]
  },
  {
   "attachments": {},
   "cell_type": "markdown",
   "metadata": {},
   "source": [
    "## Esempio1 (inner)\n",
    "<img src='https://frenzy86.s3.eu-west-2.amazonaws.com/python/pandasmerge/merge2.png' width=600>"
   ]
  },
  {
   "cell_type": "code",
   "execution_count": 4,
   "metadata": {},
   "outputs": [],
   "source": [
    "merged_df = names.merge(scores, on=\"id\")"
   ]
  },
  {
   "attachments": {},
   "cell_type": "markdown",
   "metadata": {},
   "source": [
    "## Esempio2\n",
    "There are different merge types. The how parameter defines it from one of the following types:\n",
    "\n",
    "left: use only keys from left DataFrame\n",
    "right: use only keys from right DataFrame\n",
    "outer: use union of keys from both DataFrames\n",
    "inner: use intersection of keys from both DataFrames\n",
    "cross: creates the cartesian product from both DataFrames\n",
    "The default value of the how parameter is inner so in the previous example, the merged DataFrame contains an intersection of keys.\n",
    "\n",
    "The keys are the values in the column(s) specified with the on parameter.\n",
    "\n",
    "<img src='https://frenzy86.s3.eu-west-2.amazonaws.com/python/pandasmerge/merge3.png' width=600>\n",
    "\n",
    "The merged DataFrame includes all the keys from the left DataFrame. The non-matching rows are filled with NaN , the standard missing value representation.\n",
    "\n"
   ]
  },
  {
   "cell_type": "code",
   "execution_count": 5,
   "metadata": {},
   "outputs": [],
   "source": [
    "merged_df = names.merge(scores, on=\"id\", how=\"left\")"
   ]
  },
  {
   "attachments": {},
   "cell_type": "markdown",
   "metadata": {},
   "source": [
    "## Esempio3 - right merge\n",
    "It is the opposite of the left merge but I would not recommend using the right merge as it can be achieved by changing the order of the DataFrames and using a left merge"
   ]
  },
  {
   "cell_type": "code",
   "execution_count": 6,
   "metadata": {},
   "outputs": [],
   "source": [
    "# followings are the same\n",
    "merged_df = names.merge(scores, on=\"id\", how=\"left\")\n",
    "merged_df = scores.merge(names, on=\"id\", how=\"right\")"
   ]
  },
  {
   "attachments": {},
   "cell_type": "markdown",
   "metadata": {},
   "source": [
    "## Esempio4\n",
    "<img src='https://frenzy86.s3.eu-west-2.amazonaws.com/python/pandasmerge/merge4.png' width=600>\n",
    "\n",
    "The merged DataFrame includes all the keys from both DataFrames.\n",
    "\n"
   ]
  },
  {
   "cell_type": "code",
   "execution_count": 7,
   "metadata": {},
   "outputs": [],
   "source": [
    "merged_df = names.merge(scores, on=\"id\", how=\"outer\")"
   ]
  },
  {
   "attachments": {},
   "cell_type": "markdown",
   "metadata": {},
   "source": [
    "## Esempio5 -Indicator parameter\n",
    "\n",
    "The indicator parameter creates a column in the merged DataFrame that indicates where the key value in rows come from.\n",
    "\n",
    "- both: key value exists in both DataFrames\n",
    "- left_only: only left DataFrame\n",
    "- right_only: only right DataFrame\n",
    "\n",
    "<img src='https://frenzy86.s3.eu-west-2.amazonaws.com/python/pandasmerge/merge5.png' width=600>"
   ]
  },
  {
   "cell_type": "code",
   "execution_count": 8,
   "metadata": {},
   "outputs": [],
   "source": [
    "merged_df = names.merge(scores, on=\"id\", how=\"outer\", indicator=True)"
   ]
  },
  {
   "attachments": {},
   "cell_type": "markdown",
   "metadata": {},
   "source": [
    "## Esempio6 -Indicator parameter\n",
    "\n",
    "The indicator parameter also takes string values as argument, which is used as the name of the column.\n",
    "\n",
    "<img src='https://frenzy86.s3.eu-west-2.amazonaws.com/python/pandasmerge/merge6.png' width=600>"
   ]
  },
  {
   "attachments": {},
   "cell_type": "markdown",
   "metadata": {},
   "source": [
    "## Esempio7 -left_on and right_on parameters\n",
    "\n",
    "If the column(s) used for merging DataFrames have different names, we can use the left_on and right_on parameters.\n",
    "\n",
    "<img src='https://frenzy86.s3.eu-west-2.amazonaws.com/python/pandasmerge/merge7.png' width=600>"
   ]
  },
  {
   "attachments": {},
   "cell_type": "markdown",
   "metadata": {},
   "source": [
    "## Example 8— merge on multiple columns\n"
   ]
  },
  {
   "cell_type": "code",
   "execution_count": 9,
   "metadata": {},
   "outputs": [],
   "source": [
    "products = pd.DataFrame({\n",
    "                        \"pg\": [\"A\", \"A\", \"A\", \"B\", \"B\", \"B\"],\n",
    "                        \"id\": [101, 102, 103, 101, 102, 104],\n",
    "                        \"price\": np.random.randint(50, 80, size=6),\n",
    "                        \"cost\": np.random.randint(40, 50, size=6),\n",
    "                        \"discount\": [0.1, 0.1, 0, 0, 0.2, 0]\n",
    "                        })\n",
    "\n",
    "sales = pd.DataFrame({\n",
    "                    \"pg\": [\"A\", \"A\", \"A\", \"B\", \"B\", \"B\"],\n",
    "                    \"id\": [101, 102, 105, 101, 102, 106],\n",
    "                    \"sales_qty\": np.random.randint(1, 10, size=6),\n",
    "                    \"discount\": [0, 0.1, 0.1, 0.2, 0, 0]\n",
    "                    })"
   ]
  },
  {
   "cell_type": "code",
   "execution_count": 10,
   "metadata": {},
   "outputs": [
    {
     "data": {
      "text/html": [
       "<div>\n",
       "<style scoped>\n",
       "    .dataframe tbody tr th:only-of-type {\n",
       "        vertical-align: middle;\n",
       "    }\n",
       "\n",
       "    .dataframe tbody tr th {\n",
       "        vertical-align: top;\n",
       "    }\n",
       "\n",
       "    .dataframe thead th {\n",
       "        text-align: right;\n",
       "    }\n",
       "</style>\n",
       "<table border=\"1\" class=\"dataframe\">\n",
       "  <thead>\n",
       "    <tr style=\"text-align: right;\">\n",
       "      <th></th>\n",
       "      <th>pg</th>\n",
       "      <th>id</th>\n",
       "      <th>price</th>\n",
       "      <th>cost</th>\n",
       "      <th>discount</th>\n",
       "    </tr>\n",
       "  </thead>\n",
       "  <tbody>\n",
       "    <tr>\n",
       "      <th>0</th>\n",
       "      <td>A</td>\n",
       "      <td>101</td>\n",
       "      <td>60</td>\n",
       "      <td>41</td>\n",
       "      <td>0.1</td>\n",
       "    </tr>\n",
       "    <tr>\n",
       "      <th>1</th>\n",
       "      <td>A</td>\n",
       "      <td>102</td>\n",
       "      <td>70</td>\n",
       "      <td>47</td>\n",
       "      <td>0.1</td>\n",
       "    </tr>\n",
       "    <tr>\n",
       "      <th>2</th>\n",
       "      <td>A</td>\n",
       "      <td>103</td>\n",
       "      <td>72</td>\n",
       "      <td>43</td>\n",
       "      <td>0.0</td>\n",
       "    </tr>\n",
       "    <tr>\n",
       "      <th>3</th>\n",
       "      <td>B</td>\n",
       "      <td>101</td>\n",
       "      <td>65</td>\n",
       "      <td>45</td>\n",
       "      <td>0.0</td>\n",
       "    </tr>\n",
       "    <tr>\n",
       "      <th>4</th>\n",
       "      <td>B</td>\n",
       "      <td>102</td>\n",
       "      <td>60</td>\n",
       "      <td>40</td>\n",
       "      <td>0.2</td>\n",
       "    </tr>\n",
       "    <tr>\n",
       "      <th>5</th>\n",
       "      <td>B</td>\n",
       "      <td>104</td>\n",
       "      <td>76</td>\n",
       "      <td>49</td>\n",
       "      <td>0.0</td>\n",
       "    </tr>\n",
       "  </tbody>\n",
       "</table>\n",
       "</div>"
      ],
      "text/plain": [
       "  pg   id  price  cost  discount\n",
       "0  A  101     60    41       0.1\n",
       "1  A  102     70    47       0.1\n",
       "2  A  103     72    43       0.0\n",
       "3  B  101     65    45       0.0\n",
       "4  B  102     60    40       0.2\n",
       "5  B  104     76    49       0.0"
      ]
     },
     "execution_count": 10,
     "metadata": {},
     "output_type": "execute_result"
    }
   ],
   "source": [
    "products"
   ]
  },
  {
   "cell_type": "code",
   "execution_count": 11,
   "metadata": {},
   "outputs": [
    {
     "data": {
      "text/html": [
       "<div>\n",
       "<style scoped>\n",
       "    .dataframe tbody tr th:only-of-type {\n",
       "        vertical-align: middle;\n",
       "    }\n",
       "\n",
       "    .dataframe tbody tr th {\n",
       "        vertical-align: top;\n",
       "    }\n",
       "\n",
       "    .dataframe thead th {\n",
       "        text-align: right;\n",
       "    }\n",
       "</style>\n",
       "<table border=\"1\" class=\"dataframe\">\n",
       "  <thead>\n",
       "    <tr style=\"text-align: right;\">\n",
       "      <th></th>\n",
       "      <th>pg</th>\n",
       "      <th>id</th>\n",
       "      <th>sales_qty</th>\n",
       "      <th>discount</th>\n",
       "    </tr>\n",
       "  </thead>\n",
       "  <tbody>\n",
       "    <tr>\n",
       "      <th>0</th>\n",
       "      <td>A</td>\n",
       "      <td>101</td>\n",
       "      <td>5</td>\n",
       "      <td>0.0</td>\n",
       "    </tr>\n",
       "    <tr>\n",
       "      <th>1</th>\n",
       "      <td>A</td>\n",
       "      <td>102</td>\n",
       "      <td>2</td>\n",
       "      <td>0.1</td>\n",
       "    </tr>\n",
       "    <tr>\n",
       "      <th>2</th>\n",
       "      <td>A</td>\n",
       "      <td>105</td>\n",
       "      <td>5</td>\n",
       "      <td>0.1</td>\n",
       "    </tr>\n",
       "    <tr>\n",
       "      <th>3</th>\n",
       "      <td>B</td>\n",
       "      <td>101</td>\n",
       "      <td>5</td>\n",
       "      <td>0.2</td>\n",
       "    </tr>\n",
       "    <tr>\n",
       "      <th>4</th>\n",
       "      <td>B</td>\n",
       "      <td>102</td>\n",
       "      <td>6</td>\n",
       "      <td>0.0</td>\n",
       "    </tr>\n",
       "    <tr>\n",
       "      <th>5</th>\n",
       "      <td>B</td>\n",
       "      <td>106</td>\n",
       "      <td>5</td>\n",
       "      <td>0.0</td>\n",
       "    </tr>\n",
       "  </tbody>\n",
       "</table>\n",
       "</div>"
      ],
      "text/plain": [
       "  pg   id  sales_qty  discount\n",
       "0  A  101          5       0.0\n",
       "1  A  102          2       0.1\n",
       "2  A  105          5       0.1\n",
       "3  B  101          5       0.2\n",
       "4  B  102          6       0.0\n",
       "5  B  106          5       0.0"
      ]
     },
     "execution_count": 11,
     "metadata": {},
     "output_type": "execute_result"
    }
   ],
   "source": [
    "sales"
   ]
  },
  {
   "attachments": {},
   "cell_type": "markdown",
   "metadata": {},
   "source": [
    "To merge DataFrames on multiple columns, we write the column names as a Python list.\n",
    "\n"
   ]
  },
  {
   "cell_type": "code",
   "execution_count": 12,
   "metadata": {},
   "outputs": [],
   "source": [
    "merged_df = products.merge(sales, on=[\"pg\", \"id\"])"
   ]
  },
  {
   "attachments": {},
   "cell_type": "markdown",
   "metadata": {},
   "source": [
    "<img src='https://frenzy86.s3.eu-west-2.amazonaws.com/python/pandasmerge/merge9.png' width=830>"
   ]
  },
  {
   "attachments": {},
   "cell_type": "markdown",
   "metadata": {},
   "source": [
    "## Esempio9 -suffix parameter\n",
    "\n",
    "In the previous example, the merged DataFrame has the columns discount_x and discount_y . The x and y suffixes are added to separate the columns that exist in both DataFrames with the same name. The x is used for the left DataFrame and y for the right.\n",
    "\n",
    "<img src='https://frenzy86.s3.eu-west-2.amazonaws.com/python/pandasmerge/merge9.png' width=800>"
   ]
  },
  {
   "cell_type": "code",
   "execution_count": 13,
   "metadata": {},
   "outputs": [],
   "source": [
    "merged_df = products.merge(sales, on=[\"pg\", \"id\"], suffixes=[\"_products\", \"_sales\"])"
   ]
  },
  {
   "attachments": {},
   "cell_type": "markdown",
   "metadata": {},
   "source": [
    "## Esempio10 -multiple columns\n",
    "\n",
    "Just like the on parameter, the right_on and left_on parameters take a list as argument in the case of having different column names.\n",
    "\n",
    "<img src='https://frenzy86.s3.eu-west-2.amazonaws.com/python/pandasmerge/merge11.png' width=950>"
   ]
  },
  {
   "cell_type": "code",
   "execution_count": 14,
   "metadata": {},
   "outputs": [],
   "source": [
    "# rename the id column\n",
    "sales = sales.rename(columns={\"id\": \"product_id\"})\n",
    "\n",
    "merged_df = products.merge(\n",
    "                            sales, \n",
    "                            left_on=[\"pg\", \"id\"], \n",
    "                            right_on=[\"pg\", \"product_id\"],\n",
    "                            how=\"left\",\n",
    "                            suffixes=[\"_products\", \"_sales\"]\n",
    "                            )"
   ]
  },
  {
   "attachments": {},
   "cell_type": "markdown",
   "metadata": {},
   "source": [
    "## Esempio11 -merge on index\n",
    "\n",
    "We can also merge DataFrames on their index values. We will create two new DataFrames for this example.\n",
    "\n",
    "<img src='https://frenzy86.s3.eu-west-2.amazonaws.com/python/pandasmerge/merge12.png' width=350>\n",
    "\n",
    "As we see in the screenshot above, the DataFrames have different index values. One starts from 0 and the other one starts from 2.\n",
    "\n",
    "To merge on index, we use the left_index and right_index parameters."
   ]
  },
  {
   "cell_type": "code",
   "execution_count": 15,
   "metadata": {},
   "outputs": [],
   "source": [
    "df1 = pd.DataFrame(\n",
    "    np.random.randint(0, 10, size=(5, 4)),\n",
    "    columns=list(\"ABCD\")\n",
    ")\n",
    "\n",
    "df2 = pd.DataFrame(\n",
    "    np.random.randint(0, 10, size=(5, 4)),\n",
    "    columns=list(\"EFGH\"),\n",
    "    index=[2, 3, 4, 5, 6]\n",
    ")"
   ]
  },
  {
   "cell_type": "code",
   "execution_count": 16,
   "metadata": {},
   "outputs": [],
   "source": [
    "merged_df = df1.merge(df2, left_index=True, right_index=True)"
   ]
  },
  {
   "attachments": {},
   "cell_type": "markdown",
   "metadata": {},
   "source": [
    "<img src='https://frenzy86.s3.eu-west-2.amazonaws.com/python/pandasmerge/merge13.png' width=550>\n"
   ]
  },
  {
   "attachments": {},
   "cell_type": "markdown",
   "metadata": {},
   "source": [
    "## Esempio12 -how parameter with merging on index\n",
    "\n",
    "We can use the how parameter when merging on indices as well.\n",
    "\n",
    "<img src='https://frenzy86.s3.eu-west-2.amazonaws.com/python/pandasmerge/merge14.png' width=550>"
   ]
  },
  {
   "cell_type": "code",
   "execution_count": 17,
   "metadata": {},
   "outputs": [],
   "source": [
    "merged_df = df1.merge(df2, left_index=True, right_index=True, how=\"left\")\n"
   ]
  },
  {
   "attachments": {},
   "cell_type": "markdown",
   "metadata": {},
   "source": [
    "## Example 13 — merging time-series data\n",
    "\n",
    "Time-series data might include measurements taken at very short time periods (e.g. at the level of seconds). Therefore, when we merge two DataFrames consisting of time series data, we may encounter measurements off by a second or two.\n",
    "\n",
    "For such cases, Pandas provide a “smart” way of merging via the merge_asof function.\n",
    "\n",
    "Assume we are merging DataFrames A and B. If a row in the left DataFrame does not have a matching row in the right DataFrame, merge_asof allows for taking a row whose value is close to the value in the left DataFrame.\n",
    "\n",
    "This is similar to a left-merge except that we match on the nearest key rather than equal keys. Both DataFrames must be sorted by the key.\n",
    "\n",
    "For each row in the left DataFrame:\n",
    "- A “backward” search selects the last row in the right DataFrame whose ‘on’ key is less than or equal to the left’s key.\n",
    "- A “forward” search selects the first row in the right DataFrame whose ‘on’ key is greater than or equal to the left’s key.\n",
    "- A “nearest” search selects the row in the right DataFrame whose ‘on’ key is closest in absolute distance to the left’s key.\n",
    "\n",
    "<img src='https://frenzy86.s3.eu-west-2.amazonaws.com/python/pandasmerge/merge15.png' width=550>\n",
    "\n",
    "Some values in the time column overlap whereas some others differ by seconds.\n",
    "\n"
   ]
  },
  {
   "cell_type": "code",
   "execution_count": 18,
   "metadata": {},
   "outputs": [],
   "source": [
    "df1 = pd.DataFrame({\n",
    "                    \"time\": pd.date_range(start=\"2022-12-09\", periods=7, freq=\"2S\"),\n",
    "                    \"left_value\": np.round(np.random.random(7), 2)\n",
    "                    })\n",
    "\n",
    "df2 = pd.DataFrame({\n",
    "                    \"time\": pd.date_range(start=\"2022-12-09\", periods=6, freq=\"3S\"),\n",
    "                    \"right_value\": np.round(np.random.random(6), 2)\n",
    "                    })"
   ]
  },
  {
   "cell_type": "code",
   "execution_count": 19,
   "metadata": {},
   "outputs": [],
   "source": [
    "merged_df = pd.merge_asof(df1, df2, on=\"time\")"
   ]
  },
  {
   "attachments": {},
   "cell_type": "markdown",
   "metadata": {},
   "source": [
    "<img src='https://frenzy86.s3.eu-west-2.amazonaws.com/python/pandasmerge/merge16.png' width=850>\n"
   ]
  },
  {
   "attachments": {},
   "cell_type": "markdown",
   "metadata": {},
   "source": [
    "## Example 14 — direction parameter\n",
    "\n",
    "In the previous example, the merge_asof function looked for the previous value for non-matching rows because the default value of the direction parameter is “backward”.\n",
    "\n",
    "Let’s change it to “nearest” and see what happens.\n",
    "\n",
    "<img src='https://frenzy86.s3.eu-west-2.amazonaws.com/python/pandasmerge/merge17.png' width=850>\n",
    "\n",
    "The right value in the first row is 0.36 because the next value (00:00:03) is closer to the value in the left DataFrame (00:00:02) than the previous value (00:00:00)."
   ]
  },
  {
   "cell_type": "code",
   "execution_count": 20,
   "metadata": {},
   "outputs": [],
   "source": [
    "merged_df = pd.merge_asof(df1, df2, on=\"time\", direction=\"nearest\")"
   ]
  },
  {
   "attachments": {},
   "cell_type": "markdown",
   "metadata": {},
   "source": [
    "## Example 15 - tolerance parameter\n",
    "We can also set a tolerance to be used when checking the previous and next values.\n",
    "\n",
    "In the following example, direction is forward so the next value is checked for non-matching rows. We also set a tolerance of 1 second so, in order to use the next value, it needs to be off by at most 1 second.\n",
    "\n",
    "<img src='https://frenzy86.s3.eu-west-2.amazonaws.com/python/pandasmerge/merge18.png' width=850>\n",
    "\n",
    "Take a look at the third and sixth rows in the merged DataFrame. The right value is NaN because the next value in the right DataFrame is off by 2 seconds for these rows.\n",
    "\n",
    "left: 00:00:04, the next value in right: 00:00:06\n",
    "\n",
    "left: 00:00:10, the next value in right: 00:00:12\n"
   ]
  },
  {
   "cell_type": "code",
   "execution_count": 21,
   "metadata": {},
   "outputs": [],
   "source": [
    "merged_df = pd.merge_asof(\n",
    "                        df1, \n",
    "                        df2, \n",
    "                        on=\"time\", \n",
    "                        direction=\"forward\", \n",
    "                        tolerance=pd.Timedelta(\"1s\")\n",
    "                        )"
   ]
  },
  {
   "attachments": {},
   "cell_type": "markdown",
   "metadata": {},
   "source": [
    "## Example 16 - allow_exact_matches parameter\n",
    "We also have the option not to allow exact matches to be in the merged DataFrame. By default, the exact matches exist in the merged DataFrame but this can be changes using the allow_exact_matches parameter.\n",
    "\n",
    "<img src='https://frenzy86.s3.eu-west-2.amazonaws.com/python/pandasmerge/merge19.png' width=850>\n",
    "\n",
    "The time values in the first rows are the same but the merged DataFrame has a NaN value in the first row of the right value column because we set the value of the allow_exact_matches parameter as False."
   ]
  },
  {
   "cell_type": "code",
   "execution_count": 22,
   "metadata": {},
   "outputs": [],
   "source": [
    "merged_df = pd.merge_asof(df1, df2, on=\"time\", allow_exact_matches=False)"
   ]
  },
  {
   "attachments": {},
   "cell_type": "markdown",
   "metadata": {},
   "source": [
    "## Example 17 - by parameter\n",
    "The by parameter can be used for separating groups when merging data points with the previous or next value.\n"
   ]
  },
  {
   "cell_type": "code",
   "execution_count": 23,
   "metadata": {},
   "outputs": [],
   "source": [
    "df1[\"group\"] = [\"AA\"] * 4 + [\"BB\"] * 3\n",
    "\n",
    "df2[\"group\"] = [\"AA\"] * 3 + [\"BB\"] * 3"
   ]
  },
  {
   "attachments": {},
   "cell_type": "markdown",
   "metadata": {},
   "source": [
    "<img src='https://frenzy86.s3.eu-west-2.amazonaws.com/python/pandasmerge/merge20.png' width=550>\n",
    "\n",
    "Let’s say we want to use merge_asof but only within groups so the values in a particular group cannot be merged with any value in a different group. To do this, we can use the by parameter.\n",
    "\n"
   ]
  },
  {
   "cell_type": "code",
   "execution_count": 24,
   "metadata": {},
   "outputs": [],
   "source": [
    "merged_df = pd.merge_asof(df1, df2, on=\"time\", by=\"group\")"
   ]
  },
  {
   "attachments": {},
   "cell_type": "markdown",
   "metadata": {},
   "source": [
    "<img src='https://frenzy86.s3.eu-west-2.amazonaws.com/python/pandasmerge/merge21.png' width=750>\n",
    "\n",
    "The right value in the first row for group BB is NaN . We’re merging based on “backward” direction and the previous value belongs to a different group."
   ]
  },
  {
   "attachments": {},
   "cell_type": "markdown",
   "metadata": {},
   "source": [
    "## Example 18 - ordered merge\n",
    "\n",
    "The merge_ordered function performs a merge for ordered data with optional filling/interpolation. It’s designed for ordered data such as time-series.\n",
    "\n",
    "<img src='https://frenzy86.s3.eu-west-2.amazonaws.com/python/pandasmerge/merge22.png' width=750>\n",
    "\n",
    "The rows are ordered by the time column. If one of the DataFrames does not have a particular time value, the columns coming from it are filled with NaN ."
   ]
  },
  {
   "cell_type": "code",
   "execution_count": 25,
   "metadata": {},
   "outputs": [],
   "source": [
    "merged_df = pd.merge_ordered(df1, df2)"
   ]
  },
  {
   "attachments": {},
   "cell_type": "markdown",
   "metadata": {},
   "source": [
    "## Example 19 - fill_method parameter\n",
    "\n",
    "When doing an ordered merge with merge_ordered , we can use the fill_method parameter to define an interpolation method.\n",
    "\n",
    "The default value is NaN and the only other option we can use is “ffill”, which means forward fill."
   ]
  },
  {
   "cell_type": "code",
   "execution_count": 26,
   "metadata": {},
   "outputs": [],
   "source": [
    "merged_df = pd.merge_ordered(df1, df2, fill_method=\"ffill\")"
   ]
  },
  {
   "attachments": {},
   "cell_type": "markdown",
   "metadata": {},
   "source": [
    "<img src='https://frenzy86.s3.eu-west-2.amazonaws.com/python/pandasmerge/merge23.png' width=750>\n",
    "\n",
    "Compare the output with the previous example and you will notice how NaN values are replaced with the previous value."
   ]
  },
  {
   "attachments": {},
   "cell_type": "markdown",
   "metadata": {},
   "source": [
    "## Example 20 - left_by parameter\n",
    "\n",
    "We can also do an ordered merge within each group separately. The left_by parameter groups left DataFrame by group columns and merge piece by piece with right DataFrame.\n",
    "\n",
    "<img src='https://frenzy86.s3.eu-west-2.amazonaws.com/python/pandasmerge/merge24.png' width=750>\n",
    "\n",
    "Compare the output with the previous example and you will notice how NaN values are replaced with the previous value."
   ]
  },
  {
   "cell_type": "code",
   "execution_count": 29,
   "metadata": {},
   "outputs": [
    {
     "data": {
      "text/html": [
       "<div>\n",
       "<style scoped>\n",
       "    .dataframe tbody tr th:only-of-type {\n",
       "        vertical-align: middle;\n",
       "    }\n",
       "\n",
       "    .dataframe tbody tr th {\n",
       "        vertical-align: top;\n",
       "    }\n",
       "\n",
       "    .dataframe thead th {\n",
       "        text-align: right;\n",
       "    }\n",
       "</style>\n",
       "<table border=\"1\" class=\"dataframe\">\n",
       "  <thead>\n",
       "    <tr style=\"text-align: right;\">\n",
       "      <th></th>\n",
       "      <th>time</th>\n",
       "      <th>left_value</th>\n",
       "      <th>group</th>\n",
       "      <th>right_value</th>\n",
       "    </tr>\n",
       "  </thead>\n",
       "  <tbody>\n",
       "    <tr>\n",
       "      <th>0</th>\n",
       "      <td>2022-12-09 00:00:00</td>\n",
       "      <td>0.69</td>\n",
       "      <td>AA</td>\n",
       "      <td>0.45</td>\n",
       "    </tr>\n",
       "    <tr>\n",
       "      <th>1</th>\n",
       "      <td>2022-12-09 00:00:02</td>\n",
       "      <td>0.72</td>\n",
       "      <td>AA</td>\n",
       "      <td>0.45</td>\n",
       "    </tr>\n",
       "    <tr>\n",
       "      <th>2</th>\n",
       "      <td>2022-12-09 00:00:03</td>\n",
       "      <td>0.72</td>\n",
       "      <td>AA</td>\n",
       "      <td>0.50</td>\n",
       "    </tr>\n",
       "    <tr>\n",
       "      <th>3</th>\n",
       "      <td>2022-12-09 00:00:04</td>\n",
       "      <td>0.11</td>\n",
       "      <td>AA</td>\n",
       "      <td>0.50</td>\n",
       "    </tr>\n",
       "    <tr>\n",
       "      <th>4</th>\n",
       "      <td>2022-12-09 00:00:06</td>\n",
       "      <td>0.20</td>\n",
       "      <td>AA</td>\n",
       "      <td>0.55</td>\n",
       "    </tr>\n",
       "    <tr>\n",
       "      <th>5</th>\n",
       "      <td>2022-12-09 00:00:08</td>\n",
       "      <td>0.87</td>\n",
       "      <td>BB</td>\n",
       "      <td>NaN</td>\n",
       "    </tr>\n",
       "    <tr>\n",
       "      <th>6</th>\n",
       "      <td>2022-12-09 00:00:09</td>\n",
       "      <td>0.87</td>\n",
       "      <td>BB</td>\n",
       "      <td>0.06</td>\n",
       "    </tr>\n",
       "    <tr>\n",
       "      <th>7</th>\n",
       "      <td>2022-12-09 00:00:10</td>\n",
       "      <td>0.04</td>\n",
       "      <td>BB</td>\n",
       "      <td>0.06</td>\n",
       "    </tr>\n",
       "    <tr>\n",
       "      <th>8</th>\n",
       "      <td>2022-12-09 00:00:12</td>\n",
       "      <td>0.61</td>\n",
       "      <td>BB</td>\n",
       "      <td>0.25</td>\n",
       "    </tr>\n",
       "    <tr>\n",
       "      <th>9</th>\n",
       "      <td>2022-12-09 00:00:15</td>\n",
       "      <td>0.61</td>\n",
       "      <td>BB</td>\n",
       "      <td>0.76</td>\n",
       "    </tr>\n",
       "  </tbody>\n",
       "</table>\n",
       "</div>"
      ],
      "text/plain": [
       "                 time  left_value group  right_value\n",
       "0 2022-12-09 00:00:00        0.69    AA         0.45\n",
       "1 2022-12-09 00:00:02        0.72    AA         0.45\n",
       "2 2022-12-09 00:00:03        0.72    AA         0.50\n",
       "3 2022-12-09 00:00:04        0.11    AA         0.50\n",
       "4 2022-12-09 00:00:06        0.20    AA         0.55\n",
       "5 2022-12-09 00:00:08        0.87    BB          NaN\n",
       "6 2022-12-09 00:00:09        0.87    BB         0.06\n",
       "7 2022-12-09 00:00:10        0.04    BB         0.06\n",
       "8 2022-12-09 00:00:12        0.61    BB         0.25\n",
       "9 2022-12-09 00:00:15        0.61    BB         0.76"
      ]
     },
     "execution_count": 29,
     "metadata": {},
     "output_type": "execute_result"
    }
   ],
   "source": [
    "merged_df = pd.merge_ordered(df1, df2, fill_method=\"ffill\", left_by=\"group\")\n",
    "merged_df"
   ]
  },
  {
   "cell_type": "markdown",
   "metadata": {},
   "source": []
  }
 ],
 "metadata": {
  "kernelspec": {
   "display_name": "Python 3",
   "language": "python",
   "name": "python3"
  },
  "language_info": {
   "codemirror_mode": {
    "name": "ipython",
    "version": 3
   },
   "file_extension": ".py",
   "mimetype": "text/x-python",
   "name": "python",
   "nbconvert_exporter": "python",
   "pygments_lexer": "ipython3",
   "version": "3.10.9"
  },
  "orig_nbformat": 4
 },
 "nbformat": 4,
 "nbformat_minor": 2
}
